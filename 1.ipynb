{
 "cells": [
  {
   "cell_type": "code",
   "execution_count": 2,
   "metadata": {},
   "outputs": [
    {
     "name": "stdout",
     "output_type": "stream",
     "text": [
      "[0.058108547551120715, 0.8401517040048844, 0.2747692532754076, 0.6499140384867549, 0.8759479725612396]\n"
     ]
    }
   ],
   "source": [
    "import numpy as np\n",
    "import matplotlib.pyplot as plt\n",
    "import random\n",
    "#生成按照一定规律产生的数据\n",
    "x=np.arange(30)\n",
    "x = x/10\n",
    "random_y=np.random.uniform(-0.1,0.1,30)\n",
    "y=x*x+random_y+1\n",
    "# random_num = [random.random(),random.random(),random.random(),random.random(),random.random()]\n",
    "random_num = [0.058108547551120715, 0.8401517040048844, 0.2747692532754076, 0.6499140384867549, 0.8759479725612396]\n",
    "print(random_num)\n"
   ]
  },
  {
   "cell_type": "code",
   "execution_count": null,
   "metadata": {},
   "outputs": [],
   "source": []
  },
  {
   "cell_type": "code",
   "execution_count": 3,
   "metadata": {},
   "outputs": [
    {
     "name": "stdout",
     "output_type": "stream",
     "text": [
      "error: 0.043171\n",
      "迭代次数：10001\n",
      "theta0:0.974356,theta1:0.146677,theta2:0.875114,theta3:0.025913\n"
     ]
    },
    {
     "data": {
      "text/plain": [
       "[<matplotlib.lines.Line2D at 0x7f9c64ea5f28>]"
      ]
     },
     "execution_count": 3,
     "metadata": {},
     "output_type": "execute_result"
    },
    {
     "data": {
      "image/png": "[encoded data removed]",
      "text/plain": [
       "<Figure size 432x288 with 1 Axes>"
      ]
     },
     "metadata": {
      "needs_background": "light"
     },
     "output_type": "display_data"
    }
   ],
   "source": [
    "\n",
    "#开始进入梯度下降算法主体部分\n",
    "epsilon=0.0001#迭代阈值\n",
    "alpha=0.001#学习率\n",
    "#初始化参数\n",
    "theta0=random_num[0]\n",
    "theta1=random_num[1]\n",
    "theta2=random_num[2] + random_num[3]\n",
    "theta3=random_num[4]\n",
    "#损失函数\n",
    "error0=0\n",
    "error1=0\n",
    "#拟合函数模型\n",
    "#my_y=theta1+theta2*x\n",
    "#误差函数error_1=sum(my_y-y)**2*0.5\n",
    "#即(theta1+theta2*x[i]-y[i])**2*0.5\n",
    "cnt=0#迭代次数\n",
    "\n",
    "\n",
    "while True:\n",
    "    cnt=cnt+1\n",
    "    #计算残差，因为损失函数为二次方形式，因此计算残差来表示该点的梯度\n",
    "    #共有十个数据，为了避免矩阵维度的计算问题，我们使用一层for循环进行运算\n",
    "    for i in np.arange(30):\n",
    "        #计算残差，即拟合函数值减去真实值\n",
    "        cancha=((theta0 + theta1*(x[i]) + theta2*(x[i]**2) + theta3*(x[i]**3)) - y[i])\n",
    "        theta0=theta0-alpha*cancha\n",
    "        theta1=theta1-alpha*cancha * (x[i]**1)\n",
    "        theta2=theta2-alpha*cancha * (x[i]**2)\n",
    "        theta3=theta3-alpha*cancha * (x[i]**3)\n",
    "    error1=0    \n",
    "    for i in np.arange(30):\n",
    "        error1=1.0 * error1+((theta0 + theta1*(x[i]) + theta2*(x[i]**2) + theta3*(x[i]**3)) - y[i])**2*0.5\n",
    "        # print(\"error: %f\"%error1)\n",
    "    c=error1-error0  \n",
    "    if cnt > 10000:\n",
    "        print(\"error: %f\"%error1)\n",
    "        break\n",
    "    else:\n",
    "        error0=error1\n",
    "    # print('theta1:%f,theta1:%f,theta1:%f,theta2:%f'%(theta0,theta1,theta2,theta3))\n",
    "print('迭代次数：%d'%cnt)\n",
    "print('theta0:%f,theta1:%f,theta2:%f,theta3:%f'%(theta0,theta1, theta2,theta3))\n",
    "my_y=(theta0 + theta1*(x) + theta2*(x**2) + theta3*(x**3))\n",
    "plt.figure(2)\n",
    "plt.scatter(x,y) \n",
    "plt.plot(x,my_y) \n"
   ]
  },
  {
   "cell_type": "code",
   "execution_count": 4,
   "metadata": {},
   "outputs": [
    {
     "name": "stdout",
     "output_type": "stream",
     "text": [
      "error: -0.000001\n",
      "迭代次数：10001\n",
      "theta0:0.979292,theta1:0.125228,theta2_1:0.259088,theta2_2:0.634233,theta3:0.021888\n",
      "theta2_1+theta2_2:%f 0.8933205961772526\n"
     ]
    },
    {
     "data": {
      "text/plain": [
       "[<matplotlib.lines.Line2D at 0x7f9c645fe8d0>]"
      ]
     },
     "execution_count": 4,
     "metadata": {},
     "output_type": "execute_result"
    },
    {
     "data": {
      "image/png": "[encoded data removed]",
      "text/plain": [
       "<Figure size 432x288 with 1 Axes>"
      ]
     },
     "metadata": {
      "needs_background": "light"
     },
     "output_type": "display_data"
    }
   ],
   "source": [
    "import numpy as np\n",
    "import matplotlib.pyplot as plt\n",
    "#生成按照一定规律产生的数据\n",
    "# x=np.arange(30)\n",
    "# x = x/10\n",
    "# random_y=np.random.uniform(-0.1,0.1,30)\n",
    "# y=x*x+random_y+1\n",
    "\n",
    "# #绘制误差函数三维可视图\n",
    "# s1=np.arange(-5,5,0.1)\n",
    "# s2=np.arange(-5,5,0.1)\n",
    "# s3=np.arange(-5,5,0.1)\n",
    "# s4=np.arange(-5,5,0.1)\n",
    "# S1,S2,S3,S4=np.meshgrid(s1,s2,s3,s4)\n",
    "# Z0=0\n",
    "# #my_y=theta1+theta2*x\n",
    "# for i in x:\n",
    "#     Zs=((S1*(x[i])**3 + S2*(x[i])**2 + S3*(x[i])**1 + S4) - y[i])**2*0.5+Z0\n",
    "#     Z0=Zs\n",
    "# plt.figure(1)\n",
    "# ax3 = plt.axes(projection='3d')\n",
    "# ax3.plot_surface(S1,S2,Zs,cmap='rainbow')\n",
    "\n",
    "#开始进入梯度下降算法主体部分\n",
    "epsilon=0.0001#迭代阈值\n",
    "alpha=0.001#学习率\n",
    "#初始化参数\n",
    "\n",
    "theta0=random_num[0]\n",
    "theta1=random_num[1]\n",
    "theta2=random_num[2]\n",
    "theta2_2=random_num[3]\n",
    "theta3=random_num[4]\n",
    "\n",
    "#损失函数\n",
    "error0=0\n",
    "error1=0\n",
    "#拟合函数模型\n",
    "#my_y=theta1+theta2*x\n",
    "#误差函数error_1=sum(my_y-y)**2*0.5\n",
    "#即(theta1+theta2*x[i]-y[i])**2*0.5\n",
    "cnt=0#迭代次数\n",
    "\n",
    "while True:\n",
    "    cnt=cnt+1\n",
    "    #计算残差，因为损失函数为二次方形式，因此计算残差来表示该点的梯度\n",
    "    #共有十个数据，为了避免矩阵维度的计算问题，我们使用一层for循环进行运算\n",
    "    for i in np.arange(30):\n",
    "        #计算残差，即拟合函数值减去真实值\n",
    "        cancha=((theta0 + theta1*(x[i]) + theta2*(x[i]**2) + theta2_2*(x[i]**2)+ theta3*(x[i]**3)) - y[i])\n",
    "        theta0=theta0-alpha*cancha\n",
    "        theta1=theta1-alpha*cancha * (x[i]**1)\n",
    "        theta2=theta2-alpha*cancha * (x[i]**2)\n",
    "        theta2_2=theta2_2-alpha*cancha * (x[i]**2)\n",
    "        theta3=theta3-alpha*cancha * (x[i]**3)\n",
    "    error1=0    \n",
    "    for i in np.arange(30):\n",
    "        error1=error1+((theta0 + theta1*(x[i]) + theta2*(x[i]**2)+ theta2_2*(x[i]**2) + theta3*(x[i]**3)) - y[i])**2*0.5\n",
    "    c=error1-error0  \n",
    "    if cnt > 10000:\n",
    "        print(\"error: %f\"%c)\n",
    "        break\n",
    "    else:\n",
    "        error0=error1\n",
    "    # print('theta1:%f,theta1:%f,theta1:%f,theta2:%f'%(theta0,theta1,theta2,theta3))\n",
    "print('迭代次数：%d'%cnt)\n",
    "print('theta0:%f,theta1:%f,theta2_1:%f,theta2_2:%f,theta3:%f'%(theta0,theta1,theta2,theta2_2,theta3))\n",
    "print('theta2_1+theta2_2:%f',theta2+theta2_2)\n",
    "my_y=(theta0 + theta1*(x) + theta2*(x**2)+ theta2_2*(x**2) + theta3*(x**3))\n",
    "plt.figure(2)\n",
    "plt.scatter(x,y) \n",
    "plt.plot(x,my_y) \n"
   ]
  },
  {
   "cell_type": "code",
   "execution_count": 41,
   "metadata": {},
   "outputs": [
    {
     "ename": "KeyboardInterrupt",
     "evalue": "",
     "output_type": "error",
     "traceback": [
      "\u001b[0;31m---------------------------------------------------------------------------\u001b[0m",
      "\u001b[0;31mKeyboardInterrupt\u001b[0m                         Traceback (most recent call last)",
      "\u001b[0;32m<ipython-input-41-d10ba22928c6>\u001b[0m in \u001b[0;36m<module>\u001b[0;34m\u001b[0m\n\u001b[1;32m     51\u001b[0m         \u001b[0mtheta1\u001b[0m\u001b[0;34m=\u001b[0m\u001b[0mtheta1\u001b[0m\u001b[0;34m-\u001b[0m\u001b[0malpha\u001b[0m\u001b[0;34m*\u001b[0m\u001b[0mcancha\u001b[0m \u001b[0;34m*\u001b[0m \u001b[0;34m(\u001b[0m\u001b[0mx\u001b[0m\u001b[0;34m[\u001b[0m\u001b[0mi\u001b[0m\u001b[0;34m]\u001b[0m\u001b[0;34m**\u001b[0m\u001b[0;36m1\u001b[0m\u001b[0;34m)\u001b[0m\u001b[0;34m\u001b[0m\u001b[0;34m\u001b[0m\u001b[0m\n\u001b[1;32m     52\u001b[0m         \u001b[0mtheta2\u001b[0m\u001b[0;34m=\u001b[0m\u001b[0mtheta2\u001b[0m\u001b[0;34m-\u001b[0m\u001b[0malpha\u001b[0m\u001b[0;34m*\u001b[0m\u001b[0mcancha\u001b[0m \u001b[0;34m*\u001b[0m \u001b[0;34m(\u001b[0m\u001b[0mx\u001b[0m\u001b[0;34m[\u001b[0m\u001b[0mi\u001b[0m\u001b[0;34m]\u001b[0m\u001b[0;34m**\u001b[0m\u001b[0;36m2\u001b[0m\u001b[0;34m)\u001b[0m \u001b[0;34m*\u001b[0m \u001b[0mtime\u001b[0m\u001b[0;34m\u001b[0m\u001b[0;34m\u001b[0m\u001b[0m\n\u001b[0;32m---> 53\u001b[0;31m         \u001b[0mtheta3\u001b[0m\u001b[0;34m=\u001b[0m\u001b[0mtheta3\u001b[0m\u001b[0;34m-\u001b[0m\u001b[0malpha\u001b[0m\u001b[0;34m*\u001b[0m\u001b[0mcancha\u001b[0m \u001b[0;34m*\u001b[0m \u001b[0;34m(\u001b[0m\u001b[0mx\u001b[0m\u001b[0;34m[\u001b[0m\u001b[0mi\u001b[0m\u001b[0;34m]\u001b[0m\u001b[0;34m**\u001b[0m\u001b[0;36m3\u001b[0m\u001b[0;34m)\u001b[0m\u001b[0;34m\u001b[0m\u001b[0;34m\u001b[0m\u001b[0m\n\u001b[0m\u001b[1;32m     54\u001b[0m     \u001b[0merror1\u001b[0m\u001b[0;34m=\u001b[0m\u001b[0;36m0\u001b[0m\u001b[0;34m\u001b[0m\u001b[0;34m\u001b[0m\u001b[0m\n\u001b[1;32m     55\u001b[0m     \u001b[0;32mfor\u001b[0m \u001b[0mi\u001b[0m \u001b[0;32min\u001b[0m \u001b[0mnp\u001b[0m\u001b[0;34m.\u001b[0m\u001b[0marange\u001b[0m\u001b[0;34m(\u001b[0m\u001b[0;36m30\u001b[0m\u001b[0;34m)\u001b[0m\u001b[0;34m:\u001b[0m\u001b[0;34m\u001b[0m\u001b[0;34m\u001b[0m\u001b[0m\n",
      "\u001b[0;31mKeyboardInterrupt\u001b[0m: "
     ]
    }
   ],
   "source": [
    "import numpy as np\n",
    "import matplotlib.pyplot as plt\n",
    "#生成按照一定规律产生的数据\n",
    "# x=np.arange(30)\n",
    "# x = x/10\n",
    "# random_y=np.random.uniform(-0.1,0.1,30)\n",
    "# y=x*x+random_y+1\n",
    "\n",
    "# #绘制误差函数三维可视图\n",
    "# s1=np.arange(-5,5,0.1)\n",
    "# s2=np.arange(-5,5,0.1)\n",
    "# s3=np.arange(-5,5,0.1)\n",
    "# s4=np.arange(-5,5,0.1)\n",
    "# S1,S2,S3,S4=np.meshgrid(s1,s2,s3,s4)\n",
    "# Z0=0\n",
    "# #my_y=theta1+theta2*x\n",
    "# for i in x:\n",
    "#     Zs=((S1*(x[i])**3 + S2*(x[i])**2 + S3*(x[i])**1 + S4) - y[i])**2*0.5+Z0\n",
    "#     Z0=Zs\n",
    "# plt.figure(1)\n",
    "# ax3 = plt.axes(projection='3d')\n",
    "# ax3.plot_surface(S1,S2,Zs,cmap='rainbow')\n",
    "\n",
    "#开始进入梯度下降算法主体部分\n",
    "epsilon=0.0001#迭代阈值\n",
    "alpha=0.001#学习率\n",
    "#初始化参数\n",
    "theta0=0\n",
    "theta1=0\n",
    "theta2=0\n",
    "theta3=0\n",
    "#损失函数\n",
    "error0=0\n",
    "error1=0\n",
    "#拟合函数模型\n",
    "#my_y=theta1+theta2*x\n",
    "#误差函数error_1=sum(my_y-y)**2*0.5\n",
    "#即(theta1+theta2*x[i]-y[i])**2*0.5\n",
    "cnt=0#迭代次数\n",
    "\n",
    "time = 2\n",
    "\n",
    "while True:\n",
    "    cnt=cnt+1\n",
    "    #计算残差，因为损失函数为二次方形式，因此计算残差来表示该点的梯度\n",
    "    #共有十个数据，为了避免矩阵维度的计算问题，我们使用一层for循环进行运算\n",
    "    for i in np.arange(30):\n",
    "        #计算残差，即拟合函数值减去真实值\n",
    "        cancha=((theta0 + theta1*(x[i]) + time * theta2*(x[i]**2) + theta3*(x[i]**3)) - y[i])\n",
    "        theta0=theta0-alpha*cancha\n",
    "        theta1=theta1-alpha*cancha * (x[i]**1)\n",
    "        theta2=theta2-alpha*cancha * (x[i]**2) * time\n",
    "        theta3=theta3-alpha*cancha * (x[i]**3)\n",
    "    error1=0    \n",
    "    for i in np.arange(30):\n",
    "        error1=error1+((theta0 + theta1*(x[i]) + time * theta2*(x[i]**2) + theta3*(x[i]**3)) - y[i])**2*0.5\n",
    "    c=error1-error0  \n",
    "    if cnt > 10000:\n",
    "        print(\"error: %d\"%c)\n",
    "        break\n",
    "    else:\n",
    "        error0=error1\n",
    "    # print('theta1:%f,theta1:%f,theta1:%f,theta2:%f'%(theta0,theta1,theta2,theta3))\n",
    "print('迭代次数：%d'%cnt)\n",
    "print('theta0:%f,theta1:%f,time * theta2:%f,theta3:%f'%(theta0,theta1,time * theta2,theta3))\n",
    "my_y=(theta0 + theta1*(x) + time * theta2*(x**2) + theta3*(x**3))\n",
    "plt.figure(2)\n",
    "plt.scatter(x,y) \n",
    "plt.plot(x,my_y) \n"
   ]
  }
 ],
 "metadata": {
  "kernelspec": {
   "display_name": "Python 3.6.12 64-bit ('reduce': conda)",
   "language": "python",
   "name": "python3"
  },
  "language_info": {
   "codemirror_mode": {
    "name": "ipython",
    "version": 3
   },
   "file_extension": ".py",
   "mimetype": "text/x-python",
   "name": "python",
   "nbconvert_exporter": "python",
   "pygments_lexer": "ipython3",
   "version": "3.6.12"
  },
  "orig_nbformat": 4,
  "vscode": {
   "interpreter": {
    "hash": "b83684a11b895729876a1482c861bf52b1c654759205db51684faddbc3f210c5"
   }
  }
 },
 "nbformat": 4,
 "nbformat_minor": 2
}
